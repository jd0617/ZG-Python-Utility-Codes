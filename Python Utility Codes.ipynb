{
 "cells": [
  {
   "cell_type": "code",
   "execution_count": null,
   "metadata": {},
   "outputs": [],
   "source": [
    "import os\n",
    "import numpy as np\n",
    "\n",
    "from pathlib import Path"
   ]
  },
  {
   "cell_type": "markdown",
   "metadata": {},
   "source": [
    "# PDF Processing\n",
    "\n",
    "Image to PDF, PDFs merging\n",
    "\n",
    "## Convert single image into PDF."
   ]
  },
  {
   "cell_type": "code",
   "execution_count": 3,
   "metadata": {},
   "outputs": [],
   "source": [
    "import img2pdf\n",
    "\n",
    "\n",
    "def img_to_pdf(src_img_path, target_folder):\n",
    "    pdf_name = os.path.basename(src_img_path)\n",
    "    pdf_name = pdf_name[:-1] + \"pdf\"\n",
    "\n",
    "    target_path = os.path.join(target_folder, pdf_name)\n",
    "\n",
    "    with open(target_path, \"wb\") as f:\n",
    "        f.write(img2pdf.convert(src_img_path))\n",
    "\n",
    "    f.close()\n",
    "\n",
    "    print(\"Convertion complete. PDF was saved to {}.\".format(target_path))"
   ]
  },
  {
   "cell_type": "markdown",
   "metadata": {},
   "source": [
    "## Merge image sinto one PDF."
   ]
  },
  {
   "cell_type": "code",
   "execution_count": null,
   "metadata": {},
   "outputs": [],
   "source": [
    "def merge_imgs_to_pdf(imgs_folder, target_folder=None, filename=\"merge_imgs.pdf\"):\n",
    "    if target_folder is None:\n",
    "        target_folder = imgs_folder\n",
    "\n",
    "    img_list = [os.path.join(imgs_folder, imgn) for imgn in os.listdir(imgs_folder)]\n",
    "\n",
    "    filename = os.path.join(target_folder, filename)\n",
    "\n",
    "    with open(filename, \"wb\") as f:\n",
    "        f.write(img2pdf.convert(img_list))\n",
    "\n",
    "    f.close()\n",
    "\n",
    "    print(\"Complete. Images were merged to {}.\".format(filename))"
   ]
  },
  {
   "cell_type": "markdown",
   "metadata": {},
   "source": [
    "## PDF Letter Counting"
   ]
  },
  {
   "cell_type": "code",
   "execution_count": null,
   "metadata": {},
   "outputs": [],
   "source": [
    "import string\n",
    "\n",
    "from PyPDF2 import PdfReader\n",
    "\n",
    "def pdf_letter_counting(pdf_path, query_word, target_page=0):\n",
    "    assert query_word is not None, \"Query word should not be empty!\"\n",
    "\n",
    "    reader = PdfReader(pdf_path)\n",
    "    texts = reader.pages[target_page].extract_text()\n",
    "    lower_texts = texts.lower().split(\"\\n\")\n",
    "    lower_texts = \"\".join(lower_texts)\n",
    "\n",
    "    alpb = list(string.ascii_lowercase)\n",
    "    \n",
    "    # alpb_cnt = []\n",
    "\n",
    "    for idx, i in enumerate(alpb):\n",
    "        c_cnt = 0\n",
    "        for j in lower_texts:\n",
    "            if i == j:\n",
    "                c_cnt += 1\n",
    "        print(\"{} Count of {}({}): {}\".format(idx, i, i.upper(), c_cnt))\n",
    "        # alpb_cnt.append(c_cnt)\n",
    "\n",
    "    # return list(zip(alpb, alpb_cnt))"
   ]
  },
  {
   "cell_type": "markdown",
   "metadata": {},
   "source": [
    "# CSV Reading"
   ]
  },
  {
   "cell_type": "code",
   "execution_count": null,
   "metadata": {},
   "outputs": [],
   "source": [
    "import pandas as pd\n",
    "import csv\n",
    "\n",
    "src_csv_path = \"\"\n",
    "pd = pd.read_csv(src_csv_path)"
   ]
  },
  {
   "cell_type": "markdown",
   "metadata": {},
   "source": [
    "# Compare and find lost files between two folders."
   ]
  },
  {
   "cell_type": "code",
   "execution_count": null,
   "metadata": {},
   "outputs": [],
   "source": [
    "folder_1 = Path(\"\")\n",
    "folder_2 = Path(\"\")\n",
    "\n",
    "def find_lost_files(folder_1, folder_2):\n",
    "    f_list_1 = os.listdir(folder_1)\n",
    "    f_list_2 = os.listdir(folder_2)\n",
    "\n",
    "    for file_n in f_list_1:\n",
    "        if file_n in f_list_2:\n",
    "            pass\n",
    "        else:\n",
    "            print(\"{} not found in {}\".format(file_n, folder_2))"
   ]
  },
  {
   "cell_type": "markdown",
   "metadata": {},
   "source": [
    "# Convert mat file to CSV"
   ]
  },
  {
   "cell_type": "code",
   "execution_count": null,
   "metadata": {},
   "outputs": [],
   "source": [
    "import scipy.io\n",
    "\n",
    "def mat2csv(src_path, target_path):\n",
    "    mat_file = scipy.io.loadmat(src_path)\n",
    "    for i in mat_file:\n",
    "        if '__' not in i and 'readme' not in i:\n",
    "            np.savetxt((target_path+i+\".csv\"), mat_file[i], delimiter=',')\n",
    "\n",
    "    print(\"Complete. Converted to {}.\".format(target_path))"
   ]
  },
  {
   "cell_type": "markdown",
   "metadata": {},
   "source": [
    "# Convert PNG to JPG"
   ]
  },
  {
   "cell_type": "code",
   "execution_count": null,
   "metadata": {},
   "outputs": [],
   "source": [
    "import cv2\n",
    "\n",
    "def jpg2png(src_path, target_folder=None):\n",
    "    if target_folder is None:\n",
    "        target_folder = \"/\".join(src_path.split(\"/\")[:-1])\n",
    "\n",
    "    img = cv2.imread(src_path)\n",
    "    target_path = os.path.join(target_folder, os.path.basename(src_path)[:-3] + \".jpg\")\n",
    "\n",
    "    cv2.imwrite(target_path, img, [int(cv2.IMWRITE_JPEG_QUALITY), 100])\n",
    "\n",
    "    print(\"{} converted to {}.\".format(os.path.basename(src_path), target_path))"
   ]
  },
  {
   "cell_type": "markdown",
   "metadata": {},
   "source": [
    "# BBox Annotation Processing\n",
    "\n",
    "Coordinates sorting"
   ]
  },
  {
   "cell_type": "code",
   "execution_count": null,
   "metadata": {},
   "outputs": [],
   "source": [
    "def sort_pnts(pnts):\n",
    "    scoord = np.zeros((4, 2), dtype=\"float32\")\n",
    "\n",
    "    s = pnts.sum(axis=1)\n",
    "    scoord[0] = pnts[np.argmin(s)]\n",
    "    scoord[2] = pnts[np.argmax(s)]\n",
    "\n",
    "    diff = np.diff(pnts, axis=1)\n",
    "    scoord[1] = pnts[np.argmin(diff)]\n",
    "    scoord[3] = pnts[np.argmax(diff)]\n",
    "\n",
    "    return scoord"
   ]
  },
  {
   "cell_type": "markdown",
   "metadata": {},
   "source": [
    "# JSON File Processing"
   ]
  },
  {
   "cell_type": "code",
   "execution_count": 5,
   "metadata": {},
   "outputs": [],
   "source": [
    "import json\n",
    "\n",
    "def load_json(file_path):\n",
    "    f = open(file_path)\n",
    "    json_file = json.load(f)\n",
    "    f.close()\n",
    "\n",
    "    return json_file\n",
    "\n",
    "\n",
    "def save2json(json_list, target_path, mode=\"w\"):\n",
    "    json_list = json.dumps(json_list)\n",
    "\n",
    "    print(\"Writing json file\" + \".\"*50)\n",
    "    with open(target_path, mode) as f:\n",
    "        f.write(json_list)\n",
    "\n",
    "    print(\"Done! Json was wrote to {}\".format(target_path))\n"
   ]
  },
  {
   "cell_type": "markdown",
   "metadata": {},
   "source": [
    "# Dictionary Processing\n",
    "\n",
    "Let *dicts_list* is a list of dicts, \n",
    "\n",
    "> get keys of single dict: \n",
    "> ```bash\n",
    "> next(iter(single_dict.keys()))\n",
    "> ```\n",
    "\n",
    "> get values of single dict:\n",
    "> ```bash\n",
    "> next(iter(single_dict.valuess()))[\"key name\"]\n",
    "> ```\n",
    "\n",
    "### Sort a list of dcts by value of particular key.\n",
    "> ```bash\n",
    "> sorted_list = sorted(dicts_list, key=lambda x: x['reference key to be sorted'])\n",
    "> ```\n"
   ]
  },
  {
   "cell_type": "code",
   "execution_count": null,
   "metadata": {},
   "outputs": [],
   "source": [
    "def list_dict_retrieve(dict_list, k=None):\n",
    "    # if k is None:\n",
    "    res = next((i for i in dict_list if list(i.keys())[0]==k), None)\n",
    "    # else:\n",
    "    #     res = list(filter(lambda dict_list: dict_list[str(k)] == v, dict_list))\n",
    "    \n",
    "    return res\n",
    "\n",
    "\n",
    "def search_list_of_dicts(dict_list, key, value, get_idx=False):\n",
    "    dicts = []\n",
    "    for i, idx in enumerate(dict_list):\n",
    "        if i[key] == value:\n",
    "            dicts.append(i)\n",
    "    \n",
    "    if len(dicts) == 1:\n",
    "        return dicts[0]\n",
    "    else:\n",
    "        return dicts"
   ]
  },
  {
   "cell_type": "code",
   "execution_count": null,
   "metadata": {},
   "outputs": [],
   "source": []
  }
 ],
 "metadata": {
  "kernelspec": {
   "display_name": "torch22",
   "language": "python",
   "name": "python3"
  },
  "language_info": {
   "codemirror_mode": {
    "name": "ipython",
    "version": 3
   },
   "file_extension": ".py",
   "mimetype": "text/x-python",
   "name": "python",
   "nbconvert_exporter": "python",
   "pygments_lexer": "ipython3",
   "version": "3.12.2"
  }
 },
 "nbformat": 4,
 "nbformat_minor": 2
}
